{
 "cells": [
  {
   "cell_type": "markdown",
   "metadata": {},
   "source": [
    "# Geometry optimization\n",
    "\n"
   ]
  },
  {
   "cell_type": "code",
   "execution_count": 1,
   "metadata": {},
   "outputs": [],
   "source": [
    "from pyscf import gto, scf, mp\n",
    "from pyscf.geomopt.geometric_solver import optimize\n",
    "import py3Dmol"
   ]
  },
  {
   "cell_type": "code",
   "execution_count": 2,
   "metadata": {},
   "outputs": [
    {
     "data": {
      "text/plain": [
       "<pyscf.gto.mole.Mole at 0x7aab94c83290>"
      ]
     },
     "execution_count": 2,
     "metadata": {},
     "output_type": "execute_result"
    }
   ],
   "source": [
    "mol = gto.Mole()\n",
    "mol.atom = \"\"\"\n",
    "H      1.090669    0.975611    0.000000\n",
    "H     -0.435544    1.078064    0.889793\n",
    "H     -0.435544    1.078064   -0.889793\n",
    "C      0.048224    0.665550    0.000000\n",
    "O      0.044194   -0.754448    0.000000\n",
    "H     -0.874480   -1.043721    0.000000\n",
    "\"\"\"\n",
    "mol.unit = \"Angstrom\"\n",
    "mol.basis = \"cc-pvtz\"\n",
    "\n",
    "mol.build()"
   ]
  },
  {
   "cell_type": "code",
   "execution_count": 3,
   "metadata": {},
   "outputs": [
    {
     "name": "stdout",
     "output_type": "stream",
     "text": [
      "converged SCF energy = -115.089057168863\n",
      "E(MP2) = -115.546749317889  E_corr = -0.457692149025912\n",
      "E(SCS-MP2) = -115.548492148244  E_corr = -0.459434979380392\n"
     ]
    }
   ],
   "source": [
    "mf = scf.RHF(mol).run()\n",
    "mp2 = mp.MP2(mf).run()"
   ]
  },
  {
   "cell_type": "code",
   "execution_count": 4,
   "metadata": {},
   "outputs": [],
   "source": [
    "opt = mp2.Gradients().optimizer(solver=\"geometric\")"
   ]
  },
  {
   "cell_type": "code",
   "execution_count": 5,
   "metadata": {},
   "outputs": [
    {
     "name": "stderr",
     "output_type": "stream",
     "text": [
      "geometric-optimize called with the following command line:\n",
      "/home/alex/miniconda3/envs/pyscf-dev/lib/python3.12/site-packages/ipykernel_launcher.py --f=/home/alex/.local/share/jupyter/runtime/kernel-v2-13676DEPx0bbU6O5e.json\n",
      "\n",
      "                                        \u001b[91m())))))))))))))))/\u001b[0m                     \n",
      "                                    \u001b[91m())))))))))))))))))))))))),\u001b[0m                \n",
      "                                \u001b[91m*)))))))))))))))))))))))))))))))))\u001b[0m             \n",
      "                        \u001b[94m#,\u001b[0m    \u001b[91m()))))))))/\u001b[0m                \u001b[91m.)))))))))),\u001b[0m          \n",
      "                      \u001b[94m#%%%%,\u001b[0m  \u001b[91m())))))\u001b[0m                        \u001b[91m.))))))))*\u001b[0m        \n",
      "                      \u001b[94m*%%%%%%,\u001b[0m  \u001b[91m))\u001b[0m              \u001b[93m..\u001b[0m              \u001b[91m,))))))).\u001b[0m      \n",
      "                        \u001b[94m*%%%%%%,\u001b[0m         \u001b[93m***************/.\u001b[0m        \u001b[91m.)))))))\u001b[0m     \n",
      "                \u001b[94m#%%/\u001b[0m      \u001b[94m(%%%%%%,\u001b[0m    \u001b[93m/*********************.\u001b[0m       \u001b[91m)))))))\u001b[0m    \n",
      "              \u001b[94m.%%%%%%#\u001b[0m      \u001b[94m*%%%%%%,\u001b[0m  \u001b[93m*******/,\u001b[0m     \u001b[93m**********,\u001b[0m      \u001b[91m.))))))\u001b[0m   \n",
      "                \u001b[94m.%%%%%%/\u001b[0m      \u001b[94m*%%%%%%,\u001b[0m  \u001b[93m**\u001b[0m              \u001b[93m********\u001b[0m      \u001b[91m.))))))\u001b[0m  \n",
      "          \u001b[94m##\u001b[0m      \u001b[94m.%%%%%%/\u001b[0m      \u001b[94m(%%%%%%,\u001b[0m                  \u001b[93m,******\u001b[0m      \u001b[91m/)))))\u001b[0m  \n",
      "        \u001b[94m%%%%%%\u001b[0m      \u001b[94m.%%%%%%#\u001b[0m      \u001b[94m*%%%%%%,\u001b[0m    \u001b[92m,/////.\u001b[0m       \u001b[93m******\u001b[0m      \u001b[91m))))))\u001b[0m \n",
      "      \u001b[94m#%\u001b[0m      \u001b[94m%%\u001b[0m      \u001b[94m.%%%%%%/\u001b[0m      \u001b[94m*%%%%%%,\u001b[0m  \u001b[92m////////,\u001b[0m      \u001b[93m*****/\u001b[0m     \u001b[91m,)))))\u001b[0m \n",
      "    \u001b[94m#%%\u001b[0m  \u001b[94m%%%\u001b[0m  \u001b[94m%%%#\u001b[0m      \u001b[94m.%%%%%%/\u001b[0m      \u001b[94m(%%%%%%,\u001b[0m  \u001b[92m///////.\u001b[0m     \u001b[93m/*****\u001b[0m      \u001b[91m))))).\u001b[0m\n",
      "  \u001b[94m#%%%%.\u001b[0m      \u001b[94m%%%%%#\u001b[0m      \u001b[94m/%%%%%%*\u001b[0m      \u001b[94m#%%%%%%\u001b[0m   \u001b[92m/////)\u001b[0m     \u001b[93m******\u001b[0m      \u001b[91m))))),\u001b[0m\n",
      "    \u001b[94m#%%%%##%\u001b[0m  \u001b[94m%%%#\u001b[0m      \u001b[94m.%%%%%%/\u001b[0m      \u001b[94m(%%%%%%,\u001b[0m  \u001b[92m///////.\u001b[0m     \u001b[93m/*****\u001b[0m      \u001b[91m))))).\u001b[0m\n",
      "      \u001b[94m##\u001b[0m     \u001b[94m%%%\u001b[0m      \u001b[94m.%%%%%%/\u001b[0m      \u001b[94m*%%%%%%,\u001b[0m  \u001b[92m////////.\u001b[0m      \u001b[93m*****/\u001b[0m     \u001b[91m,)))))\u001b[0m \n",
      "        \u001b[94m#%%%%#\u001b[0m      \u001b[94m/%%%%%%/\u001b[0m      \u001b[94m(%%%%%%\u001b[0m      \u001b[92m/)/)//\u001b[0m       \u001b[93m******\u001b[0m      \u001b[91m))))))\u001b[0m \n",
      "          \u001b[94m##\u001b[0m      \u001b[94m.%%%%%%/\u001b[0m      \u001b[94m(%%%%%%,\u001b[0m                  \u001b[93m*******\u001b[0m      \u001b[91m))))))\u001b[0m  \n",
      "                \u001b[94m.%%%%%%/\u001b[0m      \u001b[94m*%%%%%%,\u001b[0m  \u001b[93m**.\u001b[0m             \u001b[93m/*******\u001b[0m      \u001b[91m.))))))\u001b[0m  \n",
      "              \u001b[94m*%%%%%%/\u001b[0m      \u001b[94m(%%%%%%\u001b[0m   \u001b[93m********/*..,*/*********\u001b[0m       \u001b[91m*))))))\u001b[0m   \n",
      "                \u001b[94m#%%/\u001b[0m      \u001b[94m(%%%%%%,\u001b[0m    \u001b[93m*********************/\u001b[0m        \u001b[91m)))))))\u001b[0m    \n",
      "                        \u001b[94m*%%%%%%,\u001b[0m         \u001b[93m,**************/\u001b[0m         \u001b[91m,))))))/\u001b[0m     \n",
      "                      \u001b[94m(%%%%%%\u001b[0m   \u001b[91m()\u001b[0m                              \u001b[91m))))))))\u001b[0m       \n",
      "                      \u001b[94m#%%%%,\u001b[0m  \u001b[91m())))))\u001b[0m                        \u001b[91m,)))))))),\u001b[0m        \n",
      "                        \u001b[94m#,\u001b[0m    \u001b[91m())))))))))\u001b[0m                \u001b[91m,)))))))))).\u001b[0m          \n",
      "                                 \u001b[91m()))))))))))))))))))))))))))))))/\u001b[0m             \n",
      "                                    \u001b[91m())))))))))))))))))))))))).\u001b[0m                \n",
      "                                         \u001b[91m())))))))))))))),\u001b[0m                     \n",
      "\n",
      "-=# \u001b[1;94m geomeTRIC started. Version: 1.0 \u001b[0m #=-\n",
      "Current date and time: 2024-03-23 21:20:54\n",
      "Custom engine selected.\n",
      "Bonds will be generated from interatomic distances less than 1.20 times sum of covalent radii\n",
      "18 internal coordinates being used (instead of 18 Cartesians)\n",
      "Internal coordinate system (atoms numbered from 1):\n",
      "Distance 1-4\n",
      "Distance 2-4\n",
      "Distance 3-4\n",
      "Distance 4-5\n",
      "Distance 5-6\n",
      "Angle 1-4-2\n",
      "Angle 1-4-3\n",
      "Angle 1-4-5\n",
      "Angle 2-4-3\n",
      "Angle 2-4-5\n",
      "Angle 3-4-5\n",
      "Angle 4-5-6\n",
      "Dihedral 1-4-5-6\n",
      "Dihedral 2-4-5-6\n",
      "Dihedral 3-4-5-6\n",
      "Translation-X 1-6\n",
      "Translation-Y 1-6\n",
      "Translation-Z 1-6\n",
      "Rotation-A 1-6\n",
      "Rotation-B 1-6\n",
      "Rotation-C 1-6\n",
      "<class 'geometric.internal.Distance'> : 5\n",
      "<class 'geometric.internal.Angle'> : 7\n",
      "<class 'geometric.internal.Dihedral'> : 3\n",
      "<class 'geometric.internal.TranslationX'> : 1\n",
      "<class 'geometric.internal.TranslationY'> : 1\n",
      "<class 'geometric.internal.TranslationZ'> : 1\n",
      "<class 'geometric.internal.RotationA'> : 1\n",
      "<class 'geometric.internal.RotationB'> : 1\n",
      "<class 'geometric.internal.RotationC'> : 1\n",
      "> ===== Optimization Info: ====\n",
      "> Job type: Energy minimization\n",
      "> Maximum number of optimization cycles: 300\n",
      "> Initial / maximum trust radius (Angstrom): 0.100 / 0.300\n",
      "> Convergence Criteria:\n",
      "> Will converge when all 5 criteria are reached:\n",
      ">  |Delta-E| < 1.00e-06\n",
      ">  RMS-Grad  < 3.00e-04\n",
      ">  Max-Grad  < 4.50e-04\n",
      ">  RMS-Disp  < 1.20e-03\n",
      ">  Max-Disp  < 1.80e-03\n",
      "> === End Optimization Info ===\n"
     ]
    },
    {
     "name": "stdout",
     "output_type": "stream",
     "text": [
      "\n",
      "Geometry optimization cycle 1\n",
      "Cartesian coordinates (Angstrom)\n",
      " Atom        New coordinates             dX        dY        dZ\n",
      "   H   1.090669   0.975611   0.000000    0.000000  0.000000  0.000000\n",
      "   H  -0.435544   1.078064   0.889793    0.000000  0.000000 -0.000000\n",
      "   H  -0.435544   1.078064  -0.889793    0.000000  0.000000  0.000000\n",
      "   C   0.048224   0.665550   0.000000    0.000000  0.000000  0.000000\n",
      "   O   0.044194  -0.754448   0.000000    0.000000  0.000000  0.000000\n",
      "   H  -0.874480  -1.043721   0.000000    0.000000  0.000000  0.000000\n",
      "converged SCF energy = -115.089057168865\n",
      "E(MP2_Scanner) = -115.546749322394  E_corr = -0.457692153528722\n",
      "E(SCS-MP2_Scanner) = -115.548492145681  E_corr = -0.459434976815418\n",
      "--------------- MP2_Scanner gradients ---------------\n",
      "         x                y                z\n",
      "0 H     0.0037113235     0.0009762788     0.0000000000\n",
      "1 H    -0.0019602440     0.0009230030     0.0032228600\n",
      "2 H    -0.0019602440     0.0009230030    -0.0032228600\n",
      "3 C     0.0009918653     0.0009070122    -0.0000000000\n",
      "4 O     0.0041423323    -0.0016285445     0.0000000000\n",
      "5 H    -0.0049250330    -0.0021007524    -0.0000000000\n",
      "----------------------------------------------\n",
      "cycle 1: E = -115.546749322  dE = -115.547  norm(grad) = 0.00975584\n"
     ]
    },
    {
     "name": "stderr",
     "output_type": "stream",
     "text": [
      "Step    0 : Gradient = 3.983e-03/5.354e-03 (rms/max) Energy = -115.5467493224\n",
      "Hessian Eigenvalues: 2.30000e-02 5.00000e-02 5.00000e-02 ... 3.50939e-01 4.24598e-01 5.48032e-01\n"
     ]
    },
    {
     "name": "stdout",
     "output_type": "stream",
     "text": [
      "\n",
      "Geometry optimization cycle 2\n",
      "Cartesian coordinates (Angstrom)\n",
      " Atom        New coordinates             dX        dY        dZ\n",
      "   H   1.082552   0.971601   0.000000   -0.008117 -0.004010  0.000000\n",
      "   H  -0.432970   1.076985   0.884536    0.002574 -0.001079 -0.005257\n",
      "   H  -0.432970   1.076985  -0.884536    0.002574 -0.001079  0.005257\n",
      "   C   0.045743   0.662878   0.000000   -0.002481 -0.002672  0.000000\n",
      "   O   0.044989  -0.752475   0.000000    0.000795  0.001973  0.000000\n",
      "   H  -0.869825  -1.036854   0.000000    0.004655  0.006867  0.000000\n",
      "converged SCF energy = -115.089435766108\n",
      "E(MP2_Scanner) = -115.546859964084  E_corr = -0.457424197976251\n",
      "E(SCS-MP2_Scanner) = -115.548558979997  E_corr = -0.459123213889003\n",
      "--------------- MP2_Scanner gradients ---------------\n",
      "         x                y                z\n",
      "0 H    -0.0001877465    -0.0004649158     0.0000000000\n",
      "1 H     0.0000457271    -0.0000837216    -0.0001258365\n",
      "2 H     0.0000457271    -0.0000837216     0.0001258365\n",
      "3 C    -0.0005118004     0.0008954399    -0.0000000000\n",
      "4 O     0.0007734022    -0.0007348676    -0.0000000000\n",
      "5 H    -0.0001653095     0.0004717867    -0.0000000000\n",
      "----------------------------------------------\n",
      "cycle 2: E = -115.546859964  dE = -0.000110642  norm(grad) = 0.00165925\n"
     ]
    },
    {
     "name": "stderr",
     "output_type": "stream",
     "text": [
      "Step    1 : Displace = \u001b[0m6.317e-03\u001b[0m/\u001b[0m9.054e-03\u001b[0m (rms/max) Trust = 1.000e-01 (=) Grad = \u001b[0m6.774e-04\u001b[0m/\u001b[0m1.067e-03\u001b[0m (rms/max) E (change) = -115.5468599641 (\u001b[0m-1.106e-04\u001b[0m) Quality = \u001b[0m0.959\u001b[0m\n",
      "Hessian Eigenvalues: 2.30000e-02 5.00000e-02 5.00000e-02 ... 3.66299e-01 4.14907e-01 5.44078e-01\n"
     ]
    },
    {
     "name": "stdout",
     "output_type": "stream",
     "text": [
      "\n",
      "Geometry optimization cycle 3\n",
      "Cartesian coordinates (Angstrom)\n",
      " Atom        New coordinates             dX        dY        dZ\n",
      "   H   1.082897   0.973519   0.000000    0.000345  0.001918 -0.000000\n",
      "   H  -0.432286   1.077334   0.884344    0.000684  0.000349 -0.000192\n",
      "   H  -0.432286   1.077334  -0.884344    0.000684  0.000349  0.000192\n",
      "   C   0.046431   0.662731   0.000000    0.000688 -0.000147 -0.000000\n",
      "   O   0.043206  -0.752154   0.000000   -0.001783  0.000321 -0.000000\n",
      "   H  -0.870442  -1.039645   0.000000   -0.000617 -0.002791 -0.000000\n",
      "converged SCF energy = -115.08949678528\n",
      "E(MP2_Scanner) = -115.546863613983  E_corr = -0.457366828702596\n",
      "E(SCS-MP2_Scanner) = -115.548563758329  E_corr = -0.459066973048177\n",
      "--------------- MP2_Scanner gradients ---------------\n",
      "         x                y                z\n",
      "0 H    -0.0001328572     0.0000353638    -0.0000000000\n",
      "1 H     0.0000557015    -0.0001064424    -0.0001281383\n",
      "2 H     0.0000557015    -0.0001064424     0.0001281383\n",
      "3 C     0.0001528682     0.0005858007     0.0000000000\n",
      "4 O    -0.0001884534    -0.0003703000    -0.0000000000\n",
      "5 H     0.0000570395    -0.0000379797     0.0000000000\n",
      "----------------------------------------------\n",
      "cycle 3: E = -115.546863614  dE = -3.6499e-06  norm(grad) = 0.000790234\n"
     ]
    },
    {
     "name": "stderr",
     "output_type": "stream",
     "text": [
      "Step    2 : Displace = \u001b[0m1.683e-03\u001b[0m/\u001b[0m2.861e-03\u001b[0m (rms/max) Trust = 1.414e-01 (\u001b[92m+\u001b[0m) Grad = \u001b[0m3.226e-04\u001b[0m/\u001b[0m6.054e-04\u001b[0m (rms/max) E (change) = -115.5468636140 (\u001b[0m-3.650e-06\u001b[0m) Quality = \u001b[0m0.916\u001b[0m\n",
      "Hessian Eigenvalues: 2.30000e-02 5.00000e-02 5.00000e-02 ... 3.49406e-01 4.33789e-01 5.43616e-01\n"
     ]
    },
    {
     "name": "stdout",
     "output_type": "stream",
     "text": [
      "\n",
      "Geometry optimization cycle 4\n",
      "Cartesian coordinates (Angstrom)\n",
      " Atom        New coordinates             dX        dY        dZ\n",
      "   H   1.082943   0.973054   0.000000    0.000046 -0.000465  0.000000\n",
      "   H  -0.432390   1.077525   0.884539   -0.000104  0.000190  0.000195\n",
      "   H  -0.432390   1.077525  -0.884539   -0.000104  0.000190 -0.000195\n",
      "   C   0.046194   0.662504   0.000000   -0.000237 -0.000227  0.000000\n",
      "   O   0.043388  -0.751885   0.000000    0.000182  0.000268 -0.000000\n",
      "   H  -0.870226  -1.039603  -0.000000    0.000216  0.000042 -0.000000\n",
      "converged SCF energy = -115.089498861653\n",
      "E(MP2_Scanner) = -115.546864093532  E_corr = -0.45736523187897\n",
      "E(SCS-MP2_Scanner) = -115.548562835516  E_corr = -0.459063973862505\n",
      "--------------- MP2_Scanner gradients ---------------\n",
      "         x                y                z\n",
      "0 H     0.0000030778    -0.0000065800     0.0000000000\n",
      "1 H     0.0000037381    -0.0000278095     0.0000000211\n",
      "2 H     0.0000037381    -0.0000278095    -0.0000000211\n",
      "3 C     0.0000082656     0.0001563074    -0.0000000000\n",
      "4 O    -0.0000343972    -0.0000868525     0.0000000000\n",
      "5 H     0.0000155777    -0.0000072558    -0.0000000000\n",
      "----------------------------------------------\n",
      "cycle 4: E = -115.546864094  dE = -4.79549e-07  norm(grad) = 0.000187482\n"
     ]
    },
    {
     "name": "stderr",
     "output_type": "stream",
     "text": [
      "Step    3 : Displace = \u001b[92m3.290e-04\u001b[0m/\u001b[92m4.659e-04\u001b[0m (rms/max) Trust = 2.000e-01 (\u001b[92m+\u001b[0m) Grad = \u001b[92m7.654e-05\u001b[0m/\u001b[92m1.565e-04\u001b[0m (rms/max) E (change) = -115.5468640935 (\u001b[92m-4.795e-07\u001b[0m) Quality = \u001b[0m1.218\u001b[0m\n",
      "Hessian Eigenvalues: 2.30000e-02 5.00000e-02 5.00000e-02 ... 3.49406e-01 4.33789e-01 5.43616e-01\n",
      "Converged! =D\n",
      "\n",
      "    #==========================================================================#\n",
      "    #| If this code has benefited your research, please support us by citing: |#\n",
      "    #|                                                                        |#\n",
      "    #| Wang, L.-P.; Song, C.C. (2016) \"Geometry optimization made simple with |#\n",
      "    #| translation and rotation coordinates\", J. Chem, Phys. 144, 214108.     |#\n",
      "    #| http://dx.doi.org/10.1063/1.4952956                                    |#\n",
      "    #==========================================================================#\n",
      "    Time elapsed since start of run_optimizer: 24.833 seconds\n"
     ]
    }
   ],
   "source": [
    "mol_eq = opt.kernel()"
   ]
  },
  {
   "cell_type": "code",
   "execution_count": 6,
   "metadata": {},
   "outputs": [
    {
     "name": "stdout",
     "output_type": "stream",
     "text": [
      "6\n",
      "\n",
      "H 1.082942730243 0.973054295538 0.000000000000\n",
      "H -0.432389937115 1.077524913433 0.884539060760\n",
      "H -0.432389937115 1.077524913433 -0.884539060759\n",
      "C 0.046194206046 0.662504379510 0.000000000000\n",
      "O 0.043388186215 -0.751885455981 0.000000000000\n",
      "H -0.870226248270 -1.039603045920 -0.000000000000\n",
      "\n"
     ]
    }
   ],
   "source": [
    "xyz = mol_eq.atom_coords(unit=\"Angstrom\")\n",
    "atom_symbols = [mol_eq.atom_pure_symbol(i) for i in range(mol_eq.natm)]\n",
    "xyz_str = f\"{len(atom_symbols)}\\n\\n\" + \"\".join(\n",
    "    [\n",
    "        f\"{atom_symbols[i]} {xyz[i][0]:.12f} {xyz[i][1]:.12f} {xyz[i][2]:.12f}\\n\"\n",
    "        for i in range(len(atom_symbols))\n",
    "    ]\n",
    ")\n",
    "print(xyz_str)"
   ]
  },
  {
   "cell_type": "code",
   "execution_count": 7,
   "metadata": {},
   "outputs": [
    {
     "data": {
      "application/3dmoljs_load.v0": "<div id=\"3dmolviewer_17112432789468515\"  style=\"position: relative; width: 400px; height: 400px;\">\n        <p id=\"3dmolwarning_17112432789468515\" style=\"background-color:#ffcccc;color:black\">3Dmol.js failed to load for some reason.  Please check your browser console for error messages.<br></p>\n        </div>\n<script>\n\nvar loadScriptAsync = function(uri){\n  return new Promise((resolve, reject) => {\n    //this is to ignore the existence of requirejs amd\n    var savedexports, savedmodule;\n    if (typeof exports !== 'undefined') savedexports = exports;\n    else exports = {}\n    if (typeof module !== 'undefined') savedmodule = module;\n    else module = {}\n\n    var tag = document.createElement('script');\n    tag.src = uri;\n    tag.async = true;\n    tag.onload = () => {\n        exports = savedexports;\n        module = savedmodule;\n        resolve();\n    };\n  var firstScriptTag = document.getElementsByTagName('script')[0];\n  firstScriptTag.parentNode.insertBefore(tag, firstScriptTag);\n});\n};\n\nif(typeof $3Dmolpromise === 'undefined') {\n$3Dmolpromise = null;\n  $3Dmolpromise = loadScriptAsync('https://cdnjs.cloudflare.com/ajax/libs/3Dmol/2.1.0/3Dmol-min.js');\n}\n\nvar viewer_17112432789468515 = null;\nvar warn = document.getElementById(\"3dmolwarning_17112432789468515\");\nif(warn) {\n    warn.parentNode.removeChild(warn);\n}\n$3Dmolpromise.then(function() {\nviewer_17112432789468515 = $3Dmol.createViewer(document.getElementById(\"3dmolviewer_17112432789468515\"),{backgroundColor:\"white\"});\nviewer_17112432789468515.zoomTo();\n\tviewer_17112432789468515.addModel(\"6\\n\\nH 1.082942730243 0.973054295538 0.000000000000\\nH -0.432389937115 1.077524913433 0.884539060760\\nH -0.432389937115 1.077524913433 -0.884539060759\\nC 0.046194206046 0.662504379510 0.000000000000\\nO 0.043388186215 -0.751885455981 0.000000000000\\nH -0.870226248270 -1.039603045920 -0.000000000000\\n\",\"xyz\");\n\tviewer_17112432789468515.setStyle({\"stick\": {}});\n\tviewer_17112432789468515.zoomTo();\nviewer_17112432789468515.render();\n});\n</script>",
      "text/html": [
       "<div id=\"3dmolviewer_17112432789468515\"  style=\"position: relative; width: 400px; height: 400px;\">\n",
       "        <p id=\"3dmolwarning_17112432789468515\" style=\"background-color:#ffcccc;color:black\">3Dmol.js failed to load for some reason.  Please check your browser console for error messages.<br></p>\n",
       "        </div>\n",
       "<script>\n",
       "\n",
       "var loadScriptAsync = function(uri){\n",
       "  return new Promise((resolve, reject) => {\n",
       "    //this is to ignore the existence of requirejs amd\n",
       "    var savedexports, savedmodule;\n",
       "    if (typeof exports !== 'undefined') savedexports = exports;\n",
       "    else exports = {}\n",
       "    if (typeof module !== 'undefined') savedmodule = module;\n",
       "    else module = {}\n",
       "\n",
       "    var tag = document.createElement('script');\n",
       "    tag.src = uri;\n",
       "    tag.async = true;\n",
       "    tag.onload = () => {\n",
       "        exports = savedexports;\n",
       "        module = savedmodule;\n",
       "        resolve();\n",
       "    };\n",
       "  var firstScriptTag = document.getElementsByTagName('script')[0];\n",
       "  firstScriptTag.parentNode.insertBefore(tag, firstScriptTag);\n",
       "});\n",
       "};\n",
       "\n",
       "if(typeof $3Dmolpromise === 'undefined') {\n",
       "$3Dmolpromise = null;\n",
       "  $3Dmolpromise = loadScriptAsync('https://cdnjs.cloudflare.com/ajax/libs/3Dmol/2.1.0/3Dmol-min.js');\n",
       "}\n",
       "\n",
       "var viewer_17112432789468515 = null;\n",
       "var warn = document.getElementById(\"3dmolwarning_17112432789468515\");\n",
       "if(warn) {\n",
       "    warn.parentNode.removeChild(warn);\n",
       "}\n",
       "$3Dmolpromise.then(function() {\n",
       "viewer_17112432789468515 = $3Dmol.createViewer(document.getElementById(\"3dmolviewer_17112432789468515\"),{backgroundColor:\"white\"});\n",
       "viewer_17112432789468515.zoomTo();\n",
       "\tviewer_17112432789468515.addModel(\"6\\n\\nH 1.082942730243 0.973054295538 0.000000000000\\nH -0.432389937115 1.077524913433 0.884539060760\\nH -0.432389937115 1.077524913433 -0.884539060759\\nC 0.046194206046 0.662504379510 0.000000000000\\nO 0.043388186215 -0.751885455981 0.000000000000\\nH -0.870226248270 -1.039603045920 -0.000000000000\\n\",\"xyz\");\n",
       "\tviewer_17112432789468515.setStyle({\"stick\": {}});\n",
       "\tviewer_17112432789468515.zoomTo();\n",
       "viewer_17112432789468515.render();\n",
       "});\n",
       "</script>"
      ]
     },
     "metadata": {},
     "output_type": "display_data"
    }
   ],
   "source": [
    "view = py3Dmol.view(width=400, height=400)\n",
    "view.addModel(xyz_str, \"xyz\")\n",
    "view.setStyle({\"stick\": {}})\n",
    "view.zoomTo()\n",
    "view.show()"
   ]
  },
  {
   "cell_type": "markdown",
   "metadata": {},
   "source": [
    "The final structure in Z-matrix would be\n",
    "\n",
    "```text\n",
    "H\n",
    "H  1  1.7577\n",
    "H  1  1.7577  2  60.43\n",
    "C  1  1.0823  2  36.02   3  323.22\n",
    "O  4  1.4144  1  106.79  2  238.84\n",
    "H  5  0.9578  4  107.59  1  180.00\n",
    "```\n"
   ]
  }
 ],
 "metadata": {
  "kernelspec": {
   "display_name": "biosc1540-2024s-dev",
   "language": "python",
   "name": "python3"
  },
  "language_info": {
   "codemirror_mode": {
    "name": "ipython",
    "version": 3
   },
   "file_extension": ".py",
   "mimetype": "text/x-python",
   "name": "python",
   "nbconvert_exporter": "python",
   "pygments_lexer": "ipython3",
   "version": "3.12.2"
  }
 },
 "nbformat": 4,
 "nbformat_minor": 2
}
